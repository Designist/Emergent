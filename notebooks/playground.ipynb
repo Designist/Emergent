{
 "cells": [
  {
   "cell_type": "markdown",
   "metadata": {},
   "source": [
    "# Playground\n",
    "For testing various features of the Julia language. [Link to tutorial](https://learnxinyminutes.com/docs/julia/). "
   ]
  },
  {
   "cell_type": "code",
   "execution_count": 1,
   "metadata": {},
   "outputs": [
    {
     "name": "stdout",
     "output_type": "stream",
     "text": [
      "Hello"
     ]
    }
   ],
   "source": [
    "print(\"Hello\")"
   ]
  },
  {
   "cell_type": "code",
   "execution_count": 4,
   "metadata": {},
   "outputs": [
    {
     "data": {
      "text/plain": [
       "2"
      ]
     },
     "execution_count": 4,
     "metadata": {},
     "output_type": "execute_result"
    }
   ],
   "source": [
    "x = 2"
   ]
  },
  {
   "cell_type": "markdown",
   "metadata": {},
   "source": [
    "## Flux\n",
    "A machine learning library for Julia. [Link](http://fluxml.ai/)."
   ]
  },
  {
   "cell_type": "code",
   "execution_count": 5,
   "metadata": {},
   "outputs": [],
   "source": [
    "using Pkg"
   ]
  },
  {
   "cell_type": "code",
   "execution_count": 6,
   "metadata": {
    "collapsed": true
   },
   "outputs": [
    {
     "name": "stdout",
     "output_type": "stream",
     "text": [
      "\u001b[32m\u001b[1m  Updating\u001b[22m\u001b[39m registry at `~/.julia/registries/General`\n",
      "\u001b[32m\u001b[1m  Updating\u001b[22m\u001b[39m git-repo `https://github.com/JuliaRegistries/General.git`\n",
      "\u001b[?25l\u001b[2K\u001b[?25h\u001b[32m\u001b[1m Resolving\u001b[22m\u001b[39m package versions...\n",
      "\u001b[32m\u001b[1m Installed\u001b[22m\u001b[39m MacroTools ─────────── v0.4.4\n",
      "\u001b[32m\u001b[1m Installed\u001b[22m\u001b[39m Requires ───────────── v0.5.2\n",
      "\u001b[32m\u001b[1m Installed\u001b[22m\u001b[39m Adapt ──────────────── v0.3.1\n",
      "\u001b[32m\u001b[1m Installed\u001b[22m\u001b[39m CommonSubexpressions ─ v0.2.0\n",
      "\u001b[32m\u001b[1m Installed\u001b[22m\u001b[39m Flux ───────────────── v0.6.7\n",
      "\u001b[32m\u001b[1m Installed\u001b[22m\u001b[39m TranscodingStreams ─── v0.8.1\n",
      "\u001b[32m\u001b[1m Installed\u001b[22m\u001b[39m DataStructures ─────── v0.12.0\n",
      "\u001b[32m\u001b[1m Installed\u001b[22m\u001b[39m BinDeps ────────────── v0.8.10\n",
      "\u001b[32m\u001b[1m Installed\u001b[22m\u001b[39m Media ──────────────── v0.4.1\n",
      "\u001b[32m\u001b[1m Installed\u001b[22m\u001b[39m Reexport ───────────── v0.2.0\n",
      "\u001b[32m\u001b[1m Installed\u001b[22m\u001b[39m FixedPointNumbers ──── v0.5.3\n",
      "\u001b[32m\u001b[1m Installed\u001b[22m\u001b[39m DiffResults ────────── v0.0.3\n",
      "\u001b[32m\u001b[1m Installed\u001b[22m\u001b[39m ForwardDiff ────────── v0.9.0\n",
      "\u001b[32m\u001b[1m Installed\u001b[22m\u001b[39m ColorTypes ─────────── v0.7.4\n",
      "\u001b[32m\u001b[1m Installed\u001b[22m\u001b[39m StaticArrays ───────── v0.8.3\n",
      "\u001b[32m\u001b[1m Installed\u001b[22m\u001b[39m URIParser ──────────── v0.4.0\n",
      "\u001b[32m\u001b[1m Installed\u001b[22m\u001b[39m SpecialFunctions ───── v0.7.0\n",
      "\u001b[32m\u001b[1m Installed\u001b[22m\u001b[39m Missings ───────────── v0.3.0\n",
      "\u001b[32m\u001b[1m Installed\u001b[22m\u001b[39m ZipFile ────────────── v0.7.0\n",
      "\u001b[32m\u001b[1m Installed\u001b[22m\u001b[39m Juno ───────────────── v0.5.3\n",
      "\u001b[32m\u001b[1m Installed\u001b[22m\u001b[39m StatsBase ──────────── v0.25.0\n",
      "\u001b[32m\u001b[1m Installed\u001b[22m\u001b[39m AbstractTrees ──────── v0.2.0\n",
      "\u001b[32m\u001b[1m Installed\u001b[22m\u001b[39m NaNMath ────────────── v0.3.2\n",
      "\u001b[32m\u001b[1m Installed\u001b[22m\u001b[39m NNlib ──────────────── v0.4.2\n",
      "\u001b[32m\u001b[1m Installed\u001b[22m\u001b[39m SortingAlgorithms ──── v0.3.1\n",
      "\u001b[32m\u001b[1m Installed\u001b[22m\u001b[39m CodecZlib ──────────── v0.5.0\n",
      "\u001b[32m\u001b[1m Installed\u001b[22m\u001b[39m DiffRules ──────────── v0.0.7\n",
      "\u001b[32m\u001b[1m Installed\u001b[22m\u001b[39m Colors ─────────────── v0.9.4\n",
      "\u001b[32m\u001b[1m  Updating\u001b[22m\u001b[39m `~/.julia/environments/v1.0/Project.toml`\n",
      " \u001b[90m [587475ba]\u001b[39m\u001b[92m + Flux v0.6.7\u001b[39m\n",
      "\u001b[32m\u001b[1m  Updating\u001b[22m\u001b[39m `~/.julia/environments/v1.0/Manifest.toml`\n",
      " \u001b[90m [1520ce14]\u001b[39m\u001b[92m + AbstractTrees v0.2.0\u001b[39m\n",
      " \u001b[90m [79e6a3ab]\u001b[39m\u001b[92m + Adapt v0.3.1\u001b[39m\n",
      " \u001b[90m [9e28174c]\u001b[39m\u001b[92m + BinDeps v0.8.10\u001b[39m\n",
      " \u001b[90m [944b1d66]\u001b[39m\u001b[92m + CodecZlib v0.5.0\u001b[39m\n",
      " \u001b[90m [3da002f7]\u001b[39m\u001b[92m + ColorTypes v0.7.4\u001b[39m\n",
      " \u001b[90m [5ae59095]\u001b[39m\u001b[92m + Colors v0.9.4\u001b[39m\n",
      " \u001b[90m [bbf7d656]\u001b[39m\u001b[92m + CommonSubexpressions v0.2.0\u001b[39m\n",
      " \u001b[90m [864edb3b]\u001b[39m\u001b[92m + DataStructures v0.12.0\u001b[39m\n",
      " \u001b[90m [163ba53b]\u001b[39m\u001b[92m + DiffResults v0.0.3\u001b[39m\n",
      " \u001b[90m [b552c78f]\u001b[39m\u001b[92m + DiffRules v0.0.7\u001b[39m\n",
      " \u001b[90m [53c48c17]\u001b[39m\u001b[92m + FixedPointNumbers v0.5.3\u001b[39m\n",
      " \u001b[90m [587475ba]\u001b[39m\u001b[92m + Flux v0.6.7\u001b[39m\n",
      " \u001b[90m [f6369f11]\u001b[39m\u001b[92m + ForwardDiff v0.9.0\u001b[39m\n",
      " \u001b[90m [e5e0dc1b]\u001b[39m\u001b[92m + Juno v0.5.3\u001b[39m\n",
      " \u001b[90m [1914dd2f]\u001b[39m\u001b[92m + MacroTools v0.4.4\u001b[39m\n",
      " \u001b[90m [e89f7d12]\u001b[39m\u001b[92m + Media v0.4.1\u001b[39m\n",
      " \u001b[90m [e1d29d7a]\u001b[39m\u001b[92m + Missings v0.3.0\u001b[39m\n",
      " \u001b[90m [872c559c]\u001b[39m\u001b[92m + NNlib v0.4.2\u001b[39m\n",
      " \u001b[90m [77ba4419]\u001b[39m\u001b[92m + NaNMath v0.3.2\u001b[39m\n",
      " \u001b[90m [189a3867]\u001b[39m\u001b[92m + Reexport v0.2.0\u001b[39m\n",
      " \u001b[90m [ae029012]\u001b[39m\u001b[92m + Requires v0.5.2\u001b[39m\n",
      " \u001b[90m [a2af1166]\u001b[39m\u001b[92m + SortingAlgorithms v0.3.1\u001b[39m\n",
      " \u001b[90m [276daf66]\u001b[39m\u001b[92m + SpecialFunctions v0.7.0\u001b[39m\n",
      " \u001b[90m [90137ffa]\u001b[39m\u001b[92m + StaticArrays v0.8.3\u001b[39m\n",
      " \u001b[90m [2913bbd2]\u001b[39m\u001b[92m + StatsBase v0.25.0\u001b[39m\n",
      " \u001b[90m [3bb67fe8]\u001b[39m\u001b[92m + TranscodingStreams v0.8.1\u001b[39m\n",
      " \u001b[90m [30578b45]\u001b[39m\u001b[92m + URIParser v0.4.0\u001b[39m\n",
      " \u001b[90m [a5390f91]\u001b[39m\u001b[92m + ZipFile v0.7.0\u001b[39m\n",
      " \u001b[90m [9abbd945]\u001b[39m\u001b[92m + Profile \u001b[39m\n",
      "\u001b[32m\u001b[1m  Building\u001b[22m\u001b[39m SpecialFunctions → `~/.julia/packages/SpecialFunctions/KvXoO/deps/build.log`\n",
      "\u001b[32m\u001b[1m  Building\u001b[22m\u001b[39m CodecZlib ───────→ `~/.julia/packages/CodecZlib/wwgbh/deps/build.log`\n"
     ]
    }
   ],
   "source": [
    "Pkg.add(\"Flux\")"
   ]
  },
  {
   "cell_type": "code",
   "execution_count": 7,
   "metadata": {},
   "outputs": [
    {
     "name": "stdout",
     "output_type": "stream",
     "text": [
      "\u001b[32m\u001b[1m  Building\u001b[22m\u001b[39m SpecialFunctions → `~/.julia/packages/SpecialFunctions/KvXoO/deps/build.log`\n",
      "\u001b[32m\u001b[1m  Building\u001b[22m\u001b[39m CodecZlib ───────→ `~/.julia/packages/CodecZlib/wwgbh/deps/build.log`\n"
     ]
    }
   ],
   "source": [
    "Pkg.build(\"Flux\")"
   ]
  },
  {
   "cell_type": "code",
   "execution_count": 14,
   "metadata": {},
   "outputs": [],
   "source": [
    "using Flux\n",
    "using Flux.Tracker"
   ]
  },
  {
   "cell_type": "code",
   "execution_count": 15,
   "metadata": {},
   "outputs": [
    {
     "data": {
      "text/plain": [
       "Chain(Dense(10, 5, NNlib.σ), Dense(5, 2), NNlib.softmax)"
      ]
     },
     "execution_count": 15,
     "metadata": {},
     "output_type": "execute_result"
    }
   ],
   "source": [
    "model = Chain(\n",
    "  Dense(10, 5, σ),\n",
    "  Dense(5, 2),\n",
    "  softmax)"
   ]
  },
  {
   "cell_type": "code",
   "execution_count": 16,
   "metadata": {},
   "outputs": [
    {
     "data": {
      "text/plain": [
       "f (generic function with 1 method)"
      ]
     },
     "execution_count": 16,
     "metadata": {},
     "output_type": "execute_result"
    }
   ],
   "source": [
    "f(x) = 3x^2 + 2x + 1"
   ]
  },
  {
   "cell_type": "code",
   "execution_count": 25,
   "metadata": {},
   "outputs": [
    {
     "data": {
      "text/plain": [
       "df (generic function with 1 method)"
      ]
     },
     "execution_count": 25,
     "metadata": {},
     "output_type": "execute_result"
    }
   ],
   "source": [
    "df(x) = Tracker.gradient(f, x)[1]"
   ]
  },
  {
   "cell_type": "code",
   "execution_count": 26,
   "metadata": {},
   "outputs": [
    {
     "data": {
      "text/plain": [
       "17"
      ]
     },
     "execution_count": 26,
     "metadata": {},
     "output_type": "execute_result"
    }
   ],
   "source": [
    "f(2)"
   ]
  },
  {
   "cell_type": "code",
   "execution_count": 27,
   "metadata": {},
   "outputs": [
    {
     "data": {
      "text/plain": [
       "14.0 (tracked)"
      ]
     },
     "execution_count": 27,
     "metadata": {},
     "output_type": "execute_result"
    }
   ],
   "source": [
    "df(2)"
   ]
  },
  {
   "cell_type": "code",
   "execution_count": 40,
   "metadata": {},
   "outputs": [
    {
     "data": {
      "text/plain": [
       "1.5516533966998156"
      ]
     },
     "execution_count": 40,
     "metadata": {},
     "output_type": "execute_result"
    }
   ],
   "source": [
    "W = rand(2, 5)\n",
    "b = rand(2)\n",
    "\n",
    "predict(x) = W*x .+ b\n",
    "\n",
    "function loss(x, y)\n",
    "  ŷ = predict(x)\n",
    "  sum((y .- ŷ).^2)\n",
    "end\n",
    "\n",
    "x, y = rand(5), rand(2) # Dummy data\n",
    "loss(x, y) # ~ 3"
   ]
  },
  {
   "cell_type": "code",
   "execution_count": 41,
   "metadata": {},
   "outputs": [
    {
     "data": {
      "text/plain": [
       "Grads(...)\n"
      ]
     },
     "execution_count": 41,
     "metadata": {},
     "output_type": "execute_result"
    }
   ],
   "source": [
    "W = param(W)\n",
    "b = param(b)\n",
    "\n",
    "gs = Tracker.gradient(() -> loss(x, y), Params([W, b]))"
   ]
  },
  {
   "cell_type": "code",
   "execution_count": 42,
   "metadata": {},
   "outputs": [
    {
     "data": {
      "text/plain": [
       "0.6851958220900036 (tracked)"
      ]
     },
     "execution_count": 42,
     "metadata": {},
     "output_type": "execute_result"
    }
   ],
   "source": [
    "using Flux.Tracker: update!\n",
    "\n",
    "Δ = gs[W]\n",
    "\n",
    "# Update the parameter and reset the gradient\n",
    "update!(W, -0.1Δ)\n",
    "\n",
    "loss(x, y) # ~ 2.5"
   ]
  },
  {
   "cell_type": "code",
   "execution_count": null,
   "metadata": {},
   "outputs": [],
   "source": []
  }
 ],
 "metadata": {
  "kernelspec": {
   "display_name": "Julia 1.0.0",
   "language": "julia",
   "name": "julia-1.0"
  },
  "language_info": {
   "file_extension": ".jl",
   "mimetype": "application/julia",
   "name": "julia",
   "version": "1.0.0"
  }
 },
 "nbformat": 4,
 "nbformat_minor": 2
}
