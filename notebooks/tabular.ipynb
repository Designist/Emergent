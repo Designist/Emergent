{
 "cells": [
  {
   "cell_type": "markdown",
   "metadata": {},
   "source": [
    "# Tabular Q-Learning\n",
    "Attribute-value reference game environment (similar to [Kottur, et al.](https://arxiv.org/abs/1706.08502)) with tabular Q-learning."
   ]
  },
  {
   "cell_type": "markdown",
   "metadata": {},
   "source": [
    "### Parameters"
   ]
  },
  {
   "cell_type": "code",
   "execution_count": 1,
   "metadata": {},
   "outputs": [],
   "source": [
    "num_episodes = 15000\n",
    "learning_rate = 0.8\n",
    "gamma = 0.95\n",
    "\n",
    "epsilon = 1.0\n",
    "max_epsilon = 1.0\n",
    "min_epsilon = 0.01\n",
    "decay_rate = 0.005;"
   ]
  },
  {
   "cell_type": "code",
   "execution_count": 2,
   "metadata": {},
   "outputs": [],
   "source": [
    "vocab_size = 8\n",
    "num_attributes = 4\n",
    "num_actions = 2\n",
    "num_guesses = 2;"
   ]
  },
  {
   "cell_type": "code",
   "execution_count": 3,
   "metadata": {},
   "outputs": [],
   "source": [
    "a_table = zeros(num_attributes, num_attributes, vocab_size+1, vocab_size+1, vocab_size)\n",
    "q_table = zeros(vocab_size+1, vocab_size+1, num_attributes+1, num_attributes+1, num_attributes)\n",
    "\n",
    "a_visited = falses(num_attributes, num_attributes, vocab_size+1, vocab_size+1)\n",
    "q_visited = falses(vocab_size+1, vocab_size+1, num_attributes+1, num_attributes+1)\n",
    "\n",
    "num_correct = 0;"
   ]
  },
  {
   "cell_type": "markdown",
   "metadata": {},
   "source": [
    "### Q-Learning\n",
    "Iterate over episodes and update the Q-tables accordingly:\n",
    "\n",
    " * **A-state** - contains randomly selected attributes and previously uttered vocabulary items\n",
    " * **Q-state** - contains heard vocabulary items\n",
    "\n",
    "The goal is for A-bot to communicate its observed attributes to Q-bot. Loosely based on [FreeCodeCamp tutorial](https://github.com/simoninithomas/Deep_reinforcement_learning_Course/blob/master/Q%20learning/FrozenLake/Q%20Learning%20with%20FrozenLake.ipynb)."
   ]
  },
  {
   "cell_type": "code",
   "execution_count": 9,
   "metadata": {},
   "outputs": [
    {
     "data": {
      "text/plain": [
       "get_reward (generic function with 1 method)"
      ]
     },
     "execution_count": 9,
     "metadata": {},
     "output_type": "execute_result"
    }
   ],
   "source": [
    "function get_reward(a_state, q_state)\n",
    "    if a_state[1:2] == q_state[3:end]\n",
    "        return 1\n",
    "    else\n",
    "        return 0\n",
    "    end\n",
    "end"
   ]
  },
  {
   "cell_type": "code",
   "execution_count": 20,
   "metadata": {},
   "outputs": [
    {
     "name": "stdout",
     "output_type": "stream",
     "text": [
      "917"
     ]
    }
   ],
   "source": [
    "total_rewards = 0\n",
    "for episode in 1:num_episodes\n",
    "    # Generate random attributes:\n",
    "    a_state = [rand(1:4), rand(1:4), 1, 1]\n",
    "    \n",
    "    # A-Bot:\n",
    "    for action in 1:num_actions\n",
    "        tradeoff = rand() # exploration-exploitation\n",
    "        if (tradeoff > epsilon) | ~a_visited[a_state...]\n",
    "            # Explore:\n",
    "            word = rand(1:vocab_size) + 1\n",
    "            a_state[action+2] = word\n",
    "        else\n",
    "            # Exploit:\n",
    "            options = a_table[a_state[1], a_state[2], a_state[3], a_state[4], :]\n",
    "            word = argmax(options) + 1\n",
    "            a_state[action+2] = word\n",
    "        end\n",
    "    end\n",
    "        \n",
    "    # Q-Bot:\n",
    "    q_state = a_state[3:end]\n",
    "    push!(q_state, 1)\n",
    "    push!(q_state, 1)\n",
    "    atts = []\n",
    "    for guess in 1:num_guesses\n",
    "        tradeoff = rand() # exploration-exploitation\n",
    "        if (tradeoff > epsilon) | ~q_visited[q_state...]\n",
    "            # Explore:\n",
    "            att = rand(1:num_attributes)\n",
    "            q_state[guess+2] = att\n",
    "        else\n",
    "            # Exploit:\n",
    "            options = q_table[q_state[1], q_state[2], q_state[3], q_state[4], :]\n",
    "            att = argmax(options) + 1\n",
    "            q_state[guess+2] = att\n",
    "        end\n",
    "    end\n",
    "    reward = get_reward(a_state, q_state)\n",
    "    total_rewards += reward\n",
    "end\n",
    "print(total_rewards)"
   ]
  }
 ],
 "metadata": {
  "kernelspec": {
   "display_name": "Julia 1.0.0",
   "language": "julia",
   "name": "julia-1.0"
  },
  "language_info": {
   "file_extension": ".jl",
   "mimetype": "application/julia",
   "name": "julia",
   "version": "1.0.0"
  }
 },
 "nbformat": 4,
 "nbformat_minor": 2
}
