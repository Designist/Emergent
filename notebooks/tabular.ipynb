{
 "cells": [
  {
   "cell_type": "markdown",
   "metadata": {},
   "source": [
    "# Tabular Q-Learning\n",
    "Attribute-value reference game environment (similar to [Kottur, et al.](https://arxiv.org/abs/1706.08502)) with tabular Q-learning."
   ]
  },
  {
   "cell_type": "markdown",
   "metadata": {},
   "source": [
    "### Parameters"
   ]
  },
  {
   "cell_type": "code",
   "execution_count": 31,
   "metadata": {},
   "outputs": [],
   "source": [
    "num_episodes = 15000\n",
    "learning_rate = 0.8\n",
    "gamma = 0.95\n",
    "\n",
    "epsilon = 1.0\n",
    "max_epsilon = 1.0\n",
    "min_epsilon = 0.01\n",
    "decay_rate = 0.005;"
   ]
  },
  {
   "cell_type": "code",
   "execution_count": 123,
   "metadata": {},
   "outputs": [],
   "source": [
    "vocab_size = 8\n",
    "num_attributes = 4\n",
    "num_actions = 2;"
   ]
  },
  {
   "cell_type": "code",
   "execution_count": 139,
   "metadata": {},
   "outputs": [],
   "source": [
    "a_table = zeros(num_attributes, num_attributes, vocab_size+1, vocab_size+1, vocab_size)\n",
    "q_table = zeros(vocab_size+1, vocab_size+1, num_attributes, num_attributes)\n",
    "\n",
    "a_visited = falses(num_attributes, num_attributes, vocab_size+1, vocab_size+1)\n",
    "q_visited = falses(vocab_size+1, vocab_size+1)\n",
    "\n",
    "num_correct = 0;"
   ]
  },
  {
   "cell_type": "markdown",
   "metadata": {},
   "source": [
    "### Q-Learning\n",
    "Iterate over episodes and update the Q-tables accordingly:\n",
    "\n",
    " * **A-state** - contains randomly selected attributes and previously uttered vocabulary items\n",
    " * **Q-state** - contains heard vocabulary items\n",
    "\n",
    "The goal is for A-bot to communicate its observed attributes to Q-bot."
   ]
  },
  {
   "cell_type": "code",
   "execution_count": 141,
   "metadata": {},
   "outputs": [],
   "source": [
    "for episode in 1:num_episodes\n",
    "    # Generate random attributes:\n",
    "    a_state = [rand(1:4), rand(1:4), 1, 1]\n",
    "    \n",
    "    # A-Bot:\n",
    "    for action in 1:num_actions\n",
    "        tradeoff = rand() # exploration-exploitation\n",
    "        if (tradeoff > epsilon) | ~a_visited[a_state[1], a_state[2], a_state[3], a_state[4]]\n",
    "            # Explore:\n",
    "            word = rand(1:vocab_size) + 1\n",
    "            a_state[action+2] = word\n",
    "        else\n",
    "            # Exploit:\n",
    "            options = a_table[a_state[1], a_state[2], a_state[3], a_state[4], :]\n",
    "            word = argmax(options) + 1\n",
    "            a_state[action+2] = word\n",
    "        end\n",
    "    end\n",
    "    \n",
    "    # Q-Bot:\n",
    "    \n",
    "end"
   ]
  },
  {
   "cell_type": "code",
   "execution_count": null,
   "metadata": {},
   "outputs": [],
   "source": []
  }
 ],
 "metadata": {
  "kernelspec": {
   "display_name": "Julia 1.0.0",
   "language": "julia",
   "name": "julia-1.0"
  },
  "language_info": {
   "file_extension": ".jl",
   "mimetype": "application/julia",
   "name": "julia",
   "version": "1.0.0"
  }
 },
 "nbformat": 4,
 "nbformat_minor": 2
}
