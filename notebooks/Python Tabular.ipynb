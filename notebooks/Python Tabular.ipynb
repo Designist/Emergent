{
 "cells": [
  {
   "cell_type": "markdown",
   "metadata": {},
   "source": [
    "# Tabular Q-Learning in Python\n",
    "Code for the 4x4 configuration, with incrementality."
   ]
  },
  {
   "cell_type": "code",
   "execution_count": 315,
   "metadata": {},
   "outputs": [],
   "source": [
    "import numpy as np\n",
    "import random"
   ]
  },
  {
   "cell_type": "code",
   "execution_count": 316,
   "metadata": {},
   "outputs": [],
   "source": [
    "num_episodes = 30000\n",
    "eta = 0.8\n",
    "gamma = 0.95\n",
    "\n",
    "epsilon = 1.0\n",
    "max_epsilon = 1.0\n",
    "min_epsilon = 0.01\n",
    "decay_rate = 0.0005"
   ]
  },
  {
   "cell_type": "code",
   "execution_count": 317,
   "metadata": {},
   "outputs": [],
   "source": [
    "vocab_size = 4\n",
    "num_attributes = 4\n",
    "num_actions = 2\n",
    "num_guesses = 2\n",
    "\n",
    "# Turn these off to freeze policies:\n",
    "a_updates = True\n",
    "q_updates = False"
   ]
  },
  {
   "cell_type": "code",
   "execution_count": 318,
   "metadata": {},
   "outputs": [],
   "source": [
    "# A-State: [att * att, vocab * vocab] (+1 for empty vocab)\n",
    "# Q-State: [vocab * vocab, att * att] (+1 for empty attribute)\n",
    "a_table = np.zeros((num_attributes, num_attributes, vocab_size+1, vocab_size))\n",
    "q_table = np.zeros((vocab_size, vocab_size, num_attributes+1, num_attributes+1))\n",
    "\n",
    "a_visited = np.zeros((num_attributes, num_attributes, vocab_size+1), dtype=bool)\n",
    "q_visited = np.zeros((vocab_size, vocab_size), dtype=bool)\n",
    "\n",
    "num_correct = 0"
   ]
  },
  {
   "cell_type": "markdown",
   "metadata": {},
   "source": [
    "## Accuracy Measurements"
   ]
  },
  {
   "cell_type": "code",
   "execution_count": 319,
   "metadata": {},
   "outputs": [],
   "source": [
    "final_a_states = []\n",
    "num_exploits = 0"
   ]
  },
  {
   "cell_type": "code",
   "execution_count": 320,
   "metadata": {},
   "outputs": [],
   "source": [
    "def groundedness(a_states):\n",
    "    cooccurences = np.zeros((num_attributes, vocab_size))\n",
    "    for a_state in a_states:\n",
    "        cooccurences[a_state[0]][a_state[2]] += 1\n",
    "        cooccurences[a_state[0]][a_state[3]] += 1\n",
    "        cooccurences[a_state[1]][a_state[2]] += 1\n",
    "        cooccurences[a_state[1]][a_state[3]] += 1\n",
    "        \n",
    "    sum = 0\n",
    "    for att in range(num_attributes):\n",
    "        sum += np.max(cooccurences[att, :])\n",
    "\n",
    "    sum /= (len(a_states)*num_attributes)\n",
    "    print(\"Groundedness: \", sum)"
   ]
  },
  {
   "cell_type": "markdown",
   "metadata": {},
   "source": [
    "## Q-Learning"
   ]
  },
  {
   "cell_type": "code",
   "execution_count": 321,
   "metadata": {},
   "outputs": [],
   "source": [
    "def get_reward(a_state, q_state):\n",
    "    if a_state[0:2] == q_state[2:4]:\n",
    "        return 1\n",
    "    else:\n",
    "        return -10"
   ]
  },
  {
   "cell_type": "code",
   "execution_count": 322,
   "metadata": {},
   "outputs": [
    {
     "name": "stdout",
     "output_type": "stream",
     "text": [
      "Groundedness:  0.2566994344196068\n",
      "Accuracy:  -7.087799622946404\n"
     ]
    }
   ],
   "source": [
    "total_rewards = 0\n",
    "for episode in range(num_episodes):\n",
    "#     println(episode)\n",
    "    # Generate random attributes:\n",
    "    tradeoff = random.random() # exploration-exploitation\n",
    "    explore = (tradeoff < epsilon)\n",
    "    \n",
    "    a_state = [random.randint(0,3), random.randint(0,3), vocab_size, vocab_size]\n",
    "    # A-Bot:\n",
    "    for action in range(num_actions):\n",
    "        if explore or ~a_visited[a_state[0], a_state[1], a_state[2]]:\n",
    "            # Explore:\n",
    "#             print(\"Exploring...\")\n",
    "            word = random.randint(0, vocab_size-1)\n",
    "            a_state[action+2] = word\n",
    "        else:\n",
    "            # Exploit:\n",
    "#             print(\"Exploiting...\")\n",
    "            options = a_table[a_state[0], a_state[1], a_state[2], :]\n",
    "            word = np.argmax(options)\n",
    "            a_state[action+2] = word\n",
    "    \n",
    "    \n",
    "    # Q-Bot:\n",
    "    q_state = [a_state[2], a_state[3], num_attributes, num_attributes]\n",
    "    if q_visited[q_state[0], q_state[1]]:\n",
    "        best_guess = (-999, -999)\n",
    "        best_guess_score = -999999\n",
    "        for i in range(num_attributes):\n",
    "            for j in range(num_attributes):\n",
    "                score = q_table[q_state[0], q_state[1], i, j]\n",
    "                if score > best_guess_score:\n",
    "                    best_guess = (i,j)\n",
    "                    best_guess_score = score\n",
    "        q_state[2] = best_guess[0]\n",
    "        q_state[3] = best_guess[1]\n",
    "    else:\n",
    "        q_state[2] = random.randint(0,3)\n",
    "        q_state[3] = random.randint(0,3)\n",
    "    \n",
    "    \n",
    "#     print(a_state)\n",
    "#     print(q_state)\n",
    "    reward = get_reward(a_state, q_state)\n",
    "#     print(reward)\n",
    "    \n",
    "    if a_updates:\n",
    "        a_visited[a_state[0], a_state[1], vocab_size] = True \n",
    "        a_table[a_state[0],a_state[1], vocab_size, a_state[2]] += reward\n",
    "\n",
    "        a_visited[a_state[0], a_state[1], a_state[2]] = True \n",
    "        a_table[a_state[0],a_state[1],a_state[2],a_state[3]] += reward\n",
    "    \n",
    "    if q_updates:\n",
    "        q_visited[q_state[0], q_state[1]] = True\n",
    "        q_table[q_state[0], q_state[1], q_state[2], q_state[3]] += reward\n",
    "    \n",
    "    epsilon = min_epsilon + (max_epsilon - min_epsilon)*np.exp(-decay_rate*episode)\n",
    "    if (episode % 200 == 0):\n",
    "        q_updates = ~q_updates\n",
    "        a_updates = ~a_updates\n",
    "    if (not explore) and (episode > 15000):\n",
    "        final_a_states.append(a_state)\n",
    "        total_rewards += reward\n",
    "        num_exploits += 1\n",
    "        \n",
    "groundedness(final_a_states)\n",
    "print(\"Accuracy: \", total_rewards/num_exploits)"
   ]
  },
  {
   "cell_type": "code",
   "execution_count": null,
   "metadata": {},
   "outputs": [],
   "source": []
  }
 ],
 "metadata": {
  "kernelspec": {
   "display_name": "Python 3",
   "language": "python",
   "name": "python3"
  },
  "language_info": {
   "codemirror_mode": {
    "name": "ipython",
    "version": 3
   },
   "file_extension": ".py",
   "mimetype": "text/x-python",
   "name": "python",
   "nbconvert_exporter": "python",
   "pygments_lexer": "ipython3",
   "version": "3.6.5"
  }
 },
 "nbformat": 4,
 "nbformat_minor": 2
}
